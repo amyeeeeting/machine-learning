{
 "cells": [
  {
   "cell_type": "code",
   "execution_count": 16,
   "metadata": {},
   "outputs": [
    {
     "name": "stdout",
     "output_type": "stream",
     "text": [
      "______\n",
      "[['APE02000000055' 'CHU03000000530' 'CAT04000000724' ... 'CPT01000000140'\n",
      "  'CRE02000000161' 'CRE02000000180']\n",
      " ['WAR02000000356' 'WAR02000000353' 'WAR02000000436' ... 'MIG01000002560'\n",
      "  'KBR01000000043' 'MIG01000002429']\n",
      " ['DEL01000000425' 'DEL01000000827' 'DEL01000000370' ... 'DEL01000000191'\n",
      "  'UNI04000000018' 'CHU03000000888']\n",
      " ...\n",
      " ['TRA01000000268' 'TRA01000000070' 'TRA01000000163' ... 'HEB01000000822'\n",
      "  'HEB01000001049' 'HEB01000001001']\n",
      " ['TWM01000000294' 'TWM01000000099' 'TWM01000000291' ... 'WIN04000001348'\n",
      "  'WIN04000001267' 'WIN04000001345']\n",
      " ['HEB01000000308' 'HEB01000000436' 'HEB01000000939' ... 'HEB01000002247'\n",
      "  'HEB01000002018' 'HEB01000001199']]\n"
     ]
    }
   ],
   "source": [
    "import pandas as pd # 引用套件並縮寫為 pd  \n",
    "import numpy as np\n",
    "from sklearn import feature_extraction\n",
    "from sklearn.feature_extraction.text import TfidfTransformer\n",
    "from sklearn.feature_extraction.text import CountVectorizer\n",
    "from sklearn.metrics.pairwise import cosine_similarity\n",
    "from scipy import sparse\n",
    "\n",
    "#將csv讀到data\n",
    "#header=none沒有標題 \n",
    "\n",
    "data = pd.read_csv('solr_metadata.csv', sep = '\\x1a', header = None)\n",
    "#將data轉成np array\n",
    "movie_list = np.array(data)\n",
    "#print(movie_list[0][1])\n",
    "#print(movie_list[0][3])\n",
    "#print(movie_list[1][6])\n",
    "out_list = []\n",
    "out_list_a = []\n",
    "count = 0\n",
    "for movie in movie_list:\n",
    "    out_list.append(movie[6])\n",
    "\n",
    "\n",
    "\n",
    "for doc in out_list:\n",
    "    doc = doc.split(',')\n",
    "    out_list_a.append(' '.join(doc))\n",
    "\n",
    "#print(out_list_a)\n",
    "\n",
    "vectorizer=CountVectorizer()\n",
    "transformer=TfidfTransformer()\n",
    "tfidf=transformer.fit_transform(vectorizer.fit_transform(out_list))\n",
    "word=vectorizer.get_feature_names()\n",
    "weight=tfidf.toarray()\n",
    "#for i in range(len(weight)):\n",
    " #   print i\n",
    "#    for j in range(len(word)):\n",
    "        #print word[j],weight[i][j]\n",
    "#print(word[0])\n",
    "#print(len(weight))\n",
    "\n",
    "np_weight = np.array(weight)\n",
    "weight_sparse = sparse.csr_matrix(weight)\n",
    "similarities = cosine_similarity(weight_sparse)\n",
    "#print(similarities)\n",
    "    \n",
    "sort_similarities = np.argsort(-similarities)\n",
    "#print(sort_similarities[2][1])\n",
    "\n",
    "\n",
    "'將順序對到movie content id '\n",
    "print(\"______\")\n",
    "#out_np為最後輸出之30部相似電影item_id\n",
    "out_np=np.empty((len(movie_list),30),dtype='object')\n",
    "for i in range(0,len(sort_similarities)):\n",
    "    ctr=0\n",
    "    for item in sort_similarities[i][:30]:\n",
    "        out_np[i,ctr] = movie_list[item][1]\n",
    "        ctr+=1\n",
    "print(out_np)\n"
   ]
  },
  {
   "cell_type": "code",
   "execution_count": null,
   "metadata": {},
   "outputs": [],
   "source": []
  },
  {
   "cell_type": "code",
   "execution_count": null,
   "metadata": {},
   "outputs": [],
   "source": []
  },
  {
   "cell_type": "code",
   "execution_count": null,
   "metadata": {},
   "outputs": [],
   "source": []
  },
  {
   "cell_type": "code",
   "execution_count": 7,
   "metadata": {},
   "outputs": [
    {
     "name": "stdout",
     "output_type": "stream",
     "text": [
      "位於,日本,愛媛縣,瀨戶內海,青島,沒有,沒有,民宿,沒有,食堂,零星,背包客,位,居民,貓咪,貓咪,攝影家,石原櫻,鏡頭,記錄,貓咪,生活,意外,捕捉,貓咪,超爆笑,瞬間,貓咪,過著,自由自在,吃飯,睡覺,玩耍,愜意,生活,窺,村,秘密,基地,位於,日本,愛媛縣,瀨戶內海,青島,沒有,沒有,民宿,沒有,食堂,零星,背包客,位,居民,貓咪,貓咪,攝影家,石原櫻,鏡頭,記錄,貓咪,生活,意外,捕捉,貓咪,超爆笑,瞬間,貓咪,過著,自由自在,吃飯,睡覺,玩耍,愜意,生活,窺,村,秘密,基地,愛媛縣,貓島,療癒,貓星人,貓咪,jp,石原櫻,山崎和也,documentary,日本,日本,movie,movie,movie\n",
      "['normal_AVJ01000000461' 'AVJ01000000461' 'normal' '來去喵的村' 1 1\n",
      " '位於,日本,愛媛縣,瀨戶內海,青島,沒有,沒有,民宿,沒有,食堂,零星,背包客,位,居民,貓咪,貓咪,攝影家,石原櫻,鏡頭,記錄,貓咪,生活,意外,捕捉,貓咪,超爆笑,瞬間,貓咪,過著,自由自在,吃飯,睡覺,玩耍,愜意,生活,窺,村,秘密,基地,位於,日本,愛媛縣,瀨戶內海,青島,沒有,沒有,民宿,沒有,食堂,零星,背包客,位,居民,貓咪,貓咪,攝影家,石原櫻,鏡頭,記錄,貓咪,生活,意外,捕捉,貓咪,超爆笑,瞬間,貓咪,過著,自由自在,吃飯,睡覺,玩耍,愜意,生活,窺,村,秘密,基地,愛媛縣,貓島,療癒,貓星人,貓咪,jp,石原櫻,山崎和也,documentary,日本,日本,movie,movie,movie'\n",
      " nan]\n"
     ]
    },
    {
     "data": {
      "text/plain": [
       "array(['normal_WAR02000000356', 'WAR02000000356', 'normal', '怪獸與牠們的產地', 1,\n",
       "       1,\n",
       "       'j.k.羅琳,迎,魔法,新紀元,大西洋城,穿越,紐約,快,加入,瘋狂,旅程,年輕,奇獸,飼育,學家,紐,帶著,裝滿,神奇,魔法,怪獸,一卡,皮箱,捲入,預期,顛覆,魔法世界,冒險,艾迪瑞德曼,j.k.羅琳,eng,艾迪瑞德曼,凱薩琳沃特斯頓,丹富樂,艾莉森蘇朵,伊薩米勒,莎曼珊莫頓,強沃特,卡門艾喬格,柯林法洛,大衛葉慈,fantasy_movie,action,j.k.羅琳,英國,英國,movie,movie,movie',\n",
       "       nan], dtype=object)"
      ]
     },
     "execution_count": 7,
     "metadata": {},
     "output_type": "execute_result"
    }
   ],
   "source": [
    "print(out_list[15380])\n",
    "print(movie_list[15380][0:10])"
   ]
  },
  {
   "cell_type": "code",
   "execution_count": 8,
   "metadata": {},
   "outputs": [
    {
     "data": {
      "text/plain": [
       "'MOV01000000555'"
      ]
     },
     "execution_count": 8,
     "metadata": {},
     "output_type": "execute_result"
    }
   ],
   "source": [
    "'''MOV01000000555'''"
   ]
  },
  {
   "cell_type": "code",
   "execution_count": 5,
   "metadata": {},
   "outputs": [
    {
     "name": "stdout",
     "output_type": "stream",
     "text": [
      "星,集合,從容不迫,日本,貓,威風凜凜,台灣,貓,察言觀色,韓國,貓,韓國,貓咪,生活,目前,統計,出,街貓,生活,韓國,都市,衍,伸出,虐,貓,問題,層出不窮,處處,可見,被遺棄,虐待,殺害,貓咪,避免,繁忙,都市,人們,生命,找尋,貓咪,能夠,幸福生活,地方,啟程,前往,世界,星,角落,前往,造訪,貓奴,旅遊勝地,─,台灣,猴,貓村,評選,世界,賞貓,景點,貓,日本,貓島,旅客,接觸,人類,貓,能夠,放鬆,自由自在,生活,顯示,貓咪,人類,幸福,共存,可能,貓,展現,貓咪,生活,帶領,人們,街貓,和平共處,貓咪,深入,探索,了解,學習,尊重,貓咪,生命,價值,紀錄片,cnblue,姜敏赫,貓咪,寵物,侯硐,貓村,kr,姜敏赫,趙恩成,documentary,family,韓國,韓國,movie,movie,movie\n",
      "我是一隻貓\n"
     ]
    }
   ],
   "source": [
    "print(out_list[15123])\n",
    "print(movie_list[15123][3])"
   ]
  },
  {
   "cell_type": "code",
   "execution_count": 7,
   "metadata": {},
   "outputs": [
    {
     "name": "stdout",
     "output_type": "stream",
     "text": [
      "美籍,舞者,芭比珍史密斯,以色列,巴,希瓦,舞團,奮鬥,決定,回,舊金山,重新,開始,揮別,累積,摯愛,告別,苦痛,化為,力量,蛻變,大膽,無懼,藝術家,創作,出具,開創性,舞作,美國,毫無,人脈,重新,返回,舞臺,生命,舞,是否,獲得,觀眾,掌聲,現代舞,舞蹈,翠貝卡影展最佳紀錄片,最佳剪輯,最佳攝影,倫敦電影節最佳紀錄片入圍,藝術,舞團,舞者,eng,芭比珍史密斯,艾維拉蓮,dance,documentary,美國,其他,美國,其他,movie,movie,movie\n",
      "裸舞芭比\n"
     ]
    }
   ],
   "source": [
    "print(out_list[4619])\n",
    "print(movie_list[4619][3])"
   ]
  },
  {
   "cell_type": "code",
   "execution_count": 48,
   "metadata": {},
   "outputs": [
    {
     "ename": "ValueError",
     "evalue": "Shape of passed values is (17143, 17143), indices imply (17143, 1)",
     "output_type": "error",
     "traceback": [
      "\u001b[0;31m----------------------------------\u001b[0m",
      "\u001b[0;31mValueError\u001b[0mTraceback (most recent call last)",
      "\u001b[0;32m~/anaconda3/lib/python3.7/site-packages/pandas/core/internals/managers.py\u001b[0m in \u001b[0;36mcreate_block_manager_from_blocks\u001b[0;34m(blocks, axes)\u001b[0m\n\u001b[1;32m   1650\u001b[0m                 blocks = [make_block(values=blocks[0],\n\u001b[0;32m-> 1651\u001b[0;31m                                      placement=slice(0, len(axes[0])))]\n\u001b[0m\u001b[1;32m   1652\u001b[0m \u001b[0;34m\u001b[0m\u001b[0m\n",
      "\u001b[0;32m~/anaconda3/lib/python3.7/site-packages/pandas/core/internals/blocks.py\u001b[0m in \u001b[0;36mmake_block\u001b[0;34m(values, placement, klass, ndim, dtype, fastpath)\u001b[0m\n\u001b[1;32m   3094\u001b[0m \u001b[0;34m\u001b[0m\u001b[0m\n\u001b[0;32m-> 3095\u001b[0;31m     \u001b[0;32mreturn\u001b[0m \u001b[0mklass\u001b[0m\u001b[0;34m(\u001b[0m\u001b[0mvalues\u001b[0m\u001b[0;34m,\u001b[0m \u001b[0mndim\u001b[0m\u001b[0;34m=\u001b[0m\u001b[0mndim\u001b[0m\u001b[0;34m,\u001b[0m \u001b[0mplacement\u001b[0m\u001b[0;34m=\u001b[0m\u001b[0mplacement\u001b[0m\u001b[0;34m)\u001b[0m\u001b[0;34m\u001b[0m\u001b[0;34m\u001b[0m\u001b[0m\n\u001b[0m\u001b[1;32m   3096\u001b[0m \u001b[0;34m\u001b[0m\u001b[0m\n",
      "\u001b[0;32m~/anaconda3/lib/python3.7/site-packages/pandas/core/internals/blocks.py\u001b[0m in \u001b[0;36m__init__\u001b[0;34m(self, values, placement, ndim)\u001b[0m\n\u001b[1;32m     86\u001b[0m                 \u001b[0;34m'Wrong number of items passed {val}, placement implies '\u001b[0m\u001b[0;34m\u001b[0m\u001b[0;34m\u001b[0m\u001b[0m\n\u001b[0;32m---> 87\u001b[0;31m                 '{mgr}'.format(val=len(self.values), mgr=len(self.mgr_locs)))\n\u001b[0m\u001b[1;32m     88\u001b[0m \u001b[0;34m\u001b[0m\u001b[0m\n",
      "\u001b[0;31mValueError\u001b[0m: Wrong number of items passed 17143, placement implies 1",
      "\nDuring handling of the above exception, another exception occurred:\n",
      "\u001b[0;31mValueError\u001b[0mTraceback (most recent call last)",
      "\u001b[0;32m<ipython-input-48-759dd21436d3>\u001b[0m in \u001b[0;36m<module>\u001b[0;34m\u001b[0m\n\u001b[1;32m      5\u001b[0m \u001b[0mdf_columns\u001b[0m \u001b[0;34m=\u001b[0m \u001b[0;34m[\u001b[0m\u001b[0;34m'similar_movie'\u001b[0m\u001b[0;34m]\u001b[0m\u001b[0;34m\u001b[0m\u001b[0;34m\u001b[0m\u001b[0m\n\u001b[1;32m      6\u001b[0m \u001b[0;31m#similar_movie_df = pd.DataFrame(index = str(movie_id), columns = 'similar_movie')\u001b[0m\u001b[0;34m\u001b[0m\u001b[0;34m\u001b[0m\u001b[0;34m\u001b[0m\u001b[0m\n\u001b[0;32m----> 7\u001b[0;31m \u001b[0msimilar_movie_df\u001b[0m \u001b[0;34m=\u001b[0m \u001b[0mpd\u001b[0m\u001b[0;34m.\u001b[0m\u001b[0mDataFrame\u001b[0m\u001b[0;34m(\u001b[0m\u001b[0msort_similarities\u001b[0m\u001b[0;34m,\u001b[0m \u001b[0mindex\u001b[0m \u001b[0;34m=\u001b[0m \u001b[0mmovie_id\u001b[0m\u001b[0;34m,\u001b[0m \u001b[0mcolumns\u001b[0m \u001b[0;34m=\u001b[0m \u001b[0mdf_columns\u001b[0m\u001b[0;34m)\u001b[0m\u001b[0;34m\u001b[0m\u001b[0;34m\u001b[0m\u001b[0m\n\u001b[0m\u001b[1;32m      8\u001b[0m \u001b[0;34m\u001b[0m\u001b[0m\n\u001b[1;32m      9\u001b[0m \u001b[0msimilar_movie_df\u001b[0m\u001b[0;34m\u001b[0m\u001b[0;34m\u001b[0m\u001b[0m\n",
      "\u001b[0;32m~/anaconda3/lib/python3.7/site-packages/pandas/core/frame.py\u001b[0m in \u001b[0;36m__init__\u001b[0;34m(self, data, index, columns, dtype, copy)\u001b[0m\n\u001b[1;32m    422\u001b[0m             \u001b[0;32melse\u001b[0m\u001b[0;34m:\u001b[0m\u001b[0;34m\u001b[0m\u001b[0;34m\u001b[0m\u001b[0m\n\u001b[1;32m    423\u001b[0m                 mgr = init_ndarray(data, index, columns, dtype=dtype,\n\u001b[0;32m--> 424\u001b[0;31m                                    copy=copy)\n\u001b[0m\u001b[1;32m    425\u001b[0m \u001b[0;34m\u001b[0m\u001b[0m\n\u001b[1;32m    426\u001b[0m         \u001b[0;31m# For data is list-like, or Iterable (will consume into list)\u001b[0m\u001b[0;34m\u001b[0m\u001b[0;34m\u001b[0m\u001b[0;34m\u001b[0m\u001b[0m\n",
      "\u001b[0;32m~/anaconda3/lib/python3.7/site-packages/pandas/core/internals/construction.py\u001b[0m in \u001b[0;36minit_ndarray\u001b[0;34m(values, index, columns, dtype, copy)\u001b[0m\n\u001b[1;32m    165\u001b[0m         \u001b[0mvalues\u001b[0m \u001b[0;34m=\u001b[0m \u001b[0mmaybe_infer_to_datetimelike\u001b[0m\u001b[0;34m(\u001b[0m\u001b[0mvalues\u001b[0m\u001b[0;34m)\u001b[0m\u001b[0;34m\u001b[0m\u001b[0;34m\u001b[0m\u001b[0m\n\u001b[1;32m    166\u001b[0m \u001b[0;34m\u001b[0m\u001b[0m\n\u001b[0;32m--> 167\u001b[0;31m     \u001b[0;32mreturn\u001b[0m \u001b[0mcreate_block_manager_from_blocks\u001b[0m\u001b[0;34m(\u001b[0m\u001b[0;34m[\u001b[0m\u001b[0mvalues\u001b[0m\u001b[0;34m]\u001b[0m\u001b[0;34m,\u001b[0m \u001b[0;34m[\u001b[0m\u001b[0mcolumns\u001b[0m\u001b[0;34m,\u001b[0m \u001b[0mindex\u001b[0m\u001b[0;34m]\u001b[0m\u001b[0;34m)\u001b[0m\u001b[0;34m\u001b[0m\u001b[0;34m\u001b[0m\u001b[0m\n\u001b[0m\u001b[1;32m    168\u001b[0m \u001b[0;34m\u001b[0m\u001b[0m\n\u001b[1;32m    169\u001b[0m \u001b[0;34m\u001b[0m\u001b[0m\n",
      "\u001b[0;32m~/anaconda3/lib/python3.7/site-packages/pandas/core/internals/managers.py\u001b[0m in \u001b[0;36mcreate_block_manager_from_blocks\u001b[0;34m(blocks, axes)\u001b[0m\n\u001b[1;32m   1658\u001b[0m         \u001b[0mblocks\u001b[0m \u001b[0;34m=\u001b[0m \u001b[0;34m[\u001b[0m\u001b[0mgetattr\u001b[0m\u001b[0;34m(\u001b[0m\u001b[0mb\u001b[0m\u001b[0;34m,\u001b[0m \u001b[0;34m'values'\u001b[0m\u001b[0;34m,\u001b[0m \u001b[0mb\u001b[0m\u001b[0;34m)\u001b[0m \u001b[0;32mfor\u001b[0m \u001b[0mb\u001b[0m \u001b[0;32min\u001b[0m \u001b[0mblocks\u001b[0m\u001b[0;34m]\u001b[0m\u001b[0;34m\u001b[0m\u001b[0;34m\u001b[0m\u001b[0m\n\u001b[1;32m   1659\u001b[0m         \u001b[0mtot_items\u001b[0m \u001b[0;34m=\u001b[0m \u001b[0msum\u001b[0m\u001b[0;34m(\u001b[0m\u001b[0mb\u001b[0m\u001b[0;34m.\u001b[0m\u001b[0mshape\u001b[0m\u001b[0;34m[\u001b[0m\u001b[0;36m0\u001b[0m\u001b[0;34m]\u001b[0m \u001b[0;32mfor\u001b[0m \u001b[0mb\u001b[0m \u001b[0;32min\u001b[0m \u001b[0mblocks\u001b[0m\u001b[0;34m)\u001b[0m\u001b[0;34m\u001b[0m\u001b[0;34m\u001b[0m\u001b[0m\n\u001b[0;32m-> 1660\u001b[0;31m         \u001b[0mconstruction_error\u001b[0m\u001b[0;34m(\u001b[0m\u001b[0mtot_items\u001b[0m\u001b[0;34m,\u001b[0m \u001b[0mblocks\u001b[0m\u001b[0;34m[\u001b[0m\u001b[0;36m0\u001b[0m\u001b[0;34m]\u001b[0m\u001b[0;34m.\u001b[0m\u001b[0mshape\u001b[0m\u001b[0;34m[\u001b[0m\u001b[0;36m1\u001b[0m\u001b[0;34m:\u001b[0m\u001b[0;34m]\u001b[0m\u001b[0;34m,\u001b[0m \u001b[0maxes\u001b[0m\u001b[0;34m,\u001b[0m \u001b[0me\u001b[0m\u001b[0;34m)\u001b[0m\u001b[0;34m\u001b[0m\u001b[0;34m\u001b[0m\u001b[0m\n\u001b[0m\u001b[1;32m   1661\u001b[0m \u001b[0;34m\u001b[0m\u001b[0m\n\u001b[1;32m   1662\u001b[0m \u001b[0;34m\u001b[0m\u001b[0m\n",
      "\u001b[0;32m~/anaconda3/lib/python3.7/site-packages/pandas/core/internals/managers.py\u001b[0m in \u001b[0;36mconstruction_error\u001b[0;34m(tot_items, block_shape, axes, e)\u001b[0m\n\u001b[1;32m   1689\u001b[0m         \u001b[0;32mraise\u001b[0m \u001b[0mValueError\u001b[0m\u001b[0;34m(\u001b[0m\u001b[0;34m\"Empty data passed with indices specified.\"\u001b[0m\u001b[0;34m)\u001b[0m\u001b[0;34m\u001b[0m\u001b[0;34m\u001b[0m\u001b[0m\n\u001b[1;32m   1690\u001b[0m     raise ValueError(\"Shape of passed values is {0}, indices imply {1}\".format(\n\u001b[0;32m-> 1691\u001b[0;31m         passed, implied))\n\u001b[0m\u001b[1;32m   1692\u001b[0m \u001b[0;34m\u001b[0m\u001b[0m\n\u001b[1;32m   1693\u001b[0m \u001b[0;34m\u001b[0m\u001b[0m\n",
      "\u001b[0;31mValueError\u001b[0m: Shape of passed values is (17143, 17143), indices imply (17143, 1)"
     ]
    }
   ],
   "source": [
    "movie_id = []\n",
    "for i in range (movie_list.shape[0]):\n",
    "    movie_id.append(movie_list[i][1])\n",
    "\n",
    "df_columns = ['similar_movie']\n",
    "#similar_movie_df = pd.DataFrame(index = str(movie_id), columns = 'similar_movie')\n",
    "similar_movie_df = pd.DataFrame(sort_similarities, index = movie_id, columns = df_columns)\n",
    "\n",
    "similar_movie_df"
   ]
  },
  {
   "cell_type": "code",
   "execution_count": 23,
   "metadata": {},
   "outputs": [
    {
     "data": {
      "text/plain": [
       "(17143, 8)"
      ]
     },
     "execution_count": 23,
     "metadata": {},
     "output_type": "execute_result"
    }
   ],
   "source": []
  },
  {
   "cell_type": "code",
   "execution_count": null,
   "metadata": {},
   "outputs": [],
   "source": []
  }
 ],
 "metadata": {
  "kernelspec": {
   "display_name": "Python 3",
   "language": "python",
   "name": "python3"
  },
  "language_info": {
   "codemirror_mode": {
    "name": "ipython",
    "version": 3
   },
   "file_extension": ".py",
   "mimetype": "text/x-python",
   "name": "python",
   "nbconvert_exporter": "python",
   "pygments_lexer": "ipython3",
   "version": "3.6.8"
  }
 },
 "nbformat": 4,
 "nbformat_minor": 2
}
